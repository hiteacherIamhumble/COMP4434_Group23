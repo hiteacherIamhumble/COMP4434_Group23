{
 "cells": [
  {
   "cell_type": "code",
   "execution_count": null,
   "metadata": {},
   "outputs": [],
   "source": [
    "from sklearn.tree import DecisionTreeRegressor\n",
    "from sklearn.metrics import mean_squared_error, make_scorer\n",
    "from sklearn.model_selection import GridSearchCV\n",
    "import lib\n",
    "import numpy as np\n",
    "import matplotlib.pyplot as plt"
   ]
  },
  {
   "cell_type": "code",
   "execution_count": 2,
   "metadata": {},
   "outputs": [],
   "source": [
    "# load data\n",
    "data = lib.Dataset(\"YAHOO\", random_state=1337, quantile_transform=True, quantile_noise=1e-3)\n",
    "mu, std = data.y_train.mean(), data.y_train.std()\n",
    "normalize = lambda x: ((x - mu) / std).astype(np.float32)\n",
    "data.y_train, data.y_valid, data.y_test = map(normalize, [data.y_train, data.y_valid, data.y_test])"
   ]
  },
  {
   "cell_type": "code",
   "execution_count": 3,
   "metadata": {},
   "outputs": [
    {
     "name": "stdout",
     "output_type": "stream",
     "text": [
      "Train MSE before optimization:  0.0161\n",
      "Validation MSE before optimization:  1.2092\n",
      "Test MSE before optimization:  1.1685\n",
      "Train MSE after optimization:  0.6483\n",
      "Validation MSE after optimization:  0.6647\n",
      "Test MSE after optimization:  0.6764\n"
     ]
    }
   ],
   "source": [
    "regressor = DecisionTreeRegressor(random_state=0)\n",
    "# Initialize lists to save the losses\n",
    "train_losses = []\n",
    "valid_losses = []\n",
    "test_losses = []\n",
    "\n",
    "# Train the model by constructing the decision tree and calculate the MSE on the training set\n",
    "regressor.fit(data.X_train, data.y_train)\n",
    "mse_train = mean_squared_error(data.y_train, regressor.predict(data.X_train))\n",
    "print(\"Train MSE before optimization: \", round(mse_train, 4))\n",
    "train_losses.append(mse_train)\n",
    "\n",
    "# Calculate the MSE on the validation set\n",
    "mse_valid = mean_squared_error(data.y_valid, regressor.predict(data.X_valid))\n",
    "print(\"Validation MSE before optimization: \", round(mse_valid, 4))\n",
    "valid_losses.append(mse_valid)\n",
    "\n",
    "# Calculate the MSE on the test set\n",
    "mse_test = mean_squared_error(data.y_test, regressor.predict(data.X_test))\n",
    "print(\"Test MSE before optimization: \", round(mse_test, 4))\n",
    "test_losses.append(mse_test)\n",
    "\n",
    "# Optimize the model parameters using grid search\n",
    "param_grid = {'max_depth': [None, 5, 10, 15, 20]}\n",
    "grid_search = GridSearchCV(DecisionTreeRegressor(random_state=0), param_grid, cv=5, scoring='neg_mean_squared_error')\n",
    "grid_search.fit(np.concatenate([data.X_train, data.X_valid]), np.concatenate([data.y_train, data.y_valid]))\n",
    "best_regressor = grid_search.best_estimator_\n",
    "\n",
    "# Calculate the MSE on the training, validation and test sets after optimization\n",
    "mse_train_optimized = mean_squared_error(data.y_train, best_regressor.predict(data.X_train))\n",
    "print(\"Train MSE after optimization: \", round(mse_train_optimized, 4))\n",
    "train_losses.append(mse_train_optimized)\n",
    "\n",
    "mse_valid_optimized = mean_squared_error(data.y_valid, best_regressor.predict(data.X_valid))\n",
    "print(\"Validation MSE after optimization: \", round(mse_valid_optimized, 4))\n",
    "valid_losses.append(mse_valid_optimized)\n",
    "\n",
    "mse_test_optimized = mean_squared_error(data.y_test, best_regressor.predict(data.X_test))\n",
    "print(\"Test MSE after optimization: \", round(mse_test_optimized, 4))\n",
    "test_losses.append(mse_test_optimized)"
   ]
  }
 ],
 "metadata": {
  "kernelspec": {
   "display_name": "base",
   "language": "python",
   "name": "python3"
  },
  "language_info": {
   "codemirror_mode": {
    "name": "ipython",
    "version": 3
   },
   "file_extension": ".py",
   "mimetype": "text/x-python",
   "name": "python",
   "nbconvert_exporter": "python",
   "pygments_lexer": "ipython3",
   "version": "3.11.5"
  }
 },
 "nbformat": 4,
 "nbformat_minor": 2
}
