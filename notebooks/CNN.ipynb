{
 "cells": [
  {
   "cell_type": "code",
   "execution_count": 1,
   "metadata": {},
   "outputs": [],
   "source": [
    "import lib\n",
    "import numpy as np\n",
    "import torch\n",
    "from torch import nn\n",
    "import torch.optim as optim\n",
    "from torch.utils.data import TensorDataset, DataLoader\n",
    "import matplotlib.pyplot as plt"
   ]
  },
  {
   "cell_type": "code",
   "execution_count": 2,
   "metadata": {},
   "outputs": [
    {
     "name": "stdout",
     "output_type": "stream",
     "text": [
      "True\n",
      "Using device: cuda:0\n"
     ]
    }
   ],
   "source": [
    "# check if CUDA is available\n",
    "print(torch.cuda.is_available())\n",
    "device = torch.device(\"cuda:0\" if torch.cuda.is_available() else \"cpu\")\n",
    "print(\"Using device:\", device)"
   ]
  },
  {
   "cell_type": "code",
   "execution_count": 3,
   "metadata": {},
   "outputs": [],
   "source": [
    "data = lib.Dataset(\"YAHOO\", random_state=1337, quantile_transform=True, quantile_noise=1e-3)\n",
    "mu, std = data.y_train.mean(), data.y_train.std()\n",
    "normalize = lambda x: ((x - mu) / std).astype(np.float32)\n",
    "data.y_train, data.y_valid, data.y_test = map(normalize, [data.y_train, data.y_valid, data.y_test])\n",
    "\n",
    "# transform the data into PyTorch tensors\n",
    "X_train = torch.tensor(data.X_train.reshape(-1, 1, 699), dtype=torch.float32).to(device)\n",
    "y_train = torch.tensor(data.y_train, dtype=torch.float32).to(device)\n",
    "X_valid = torch.tensor(data.X_valid.reshape(-1, 1, 699), dtype=torch.float32).to(device)\n",
    "y_valid = torch.tensor(data.y_valid, dtype=torch.float32).to(device)\n",
    "X_test = torch.tensor(data.X_test.reshape(-1, 1, 699), dtype=torch.float32).to(device)\n",
    "y_test = torch.tensor(data.y_test, dtype=torch.float32).to(device)\n",
    "\n",
    "# create Tensor datasets\n",
    "train_dataset = TensorDataset(X_train, y_train)\n",
    "valid_dataset = TensorDataset(X_valid, y_valid)\n",
    "test_dataset = TensorDataset(X_test, y_test)\n",
    "\n",
    "# create DataLoaders, which helps in efficient data loading, use batch_size=64\n",
    "batch_size = 64  \n",
    "train_loader = DataLoader(train_dataset, batch_size=batch_size, shuffle=True)\n",
    "valid_loader = DataLoader(valid_dataset, batch_size=batch_size, shuffle=False)\n",
    "test_loader = DataLoader(test_dataset, batch_size=batch_size, shuffle=False)\n",
    "# Initialize lists to save the losses\n",
    "train_losses = []\n",
    "val_losses = []"
   ]
  },
  {
   "cell_type": "code",
   "execution_count": 4,
   "metadata": {},
   "outputs": [],
   "source": [
    "# create a CNN model\n",
    "class Net(nn.Module):\n",
    "    def __init__(self):\n",
    "        super(Net, self).__init__()\n",
    "        self.conv1 = nn.Conv1d(1, 64, 3)\n",
    "        self.pool = nn.MaxPool1d(2)  \n",
    "        self.conv2 = nn.Conv1d(64, 32, 3)\n",
    "        # compute the length after the convolutional and pooling layers\n",
    "        conv_size = (699 - 2) // 2 - 2  \n",
    "        self.fc1 = nn.Linear(32 * conv_size, 1)\n",
    "\n",
    "    def forward(self, x):\n",
    "        x = self.pool(torch.relu(self.conv1(x)))  # add a max pooling layer after the convolutional layer\n",
    "        x = torch.relu(self.conv2(x))\n",
    "        x = x.view(-1, 32 * ((699 - 2) // 2 - 2))  # correct dimension after update\n",
    "        x = self.fc1(x)\n",
    "        return x"
   ]
  },
  {
   "cell_type": "code",
   "execution_count": 5,
   "metadata": {},
   "outputs": [],
   "source": [
    "# prepare for the training\n",
    "# create an instance of the model and move it to the device\n",
    "model = Net().to(device)\n",
    "# define the loss function and the optimizer\n",
    "criterion = nn.MSELoss()\n",
    "# use the Stochastic Gradient Descent (SGD) optimizer with a learning rate of 0.01\n",
    "optimizer = optim.SGD(model.parameters(), lr=0.01)\n",
    "# use the ReduceLROnPlateau scheduler to reduce the learning rate by a factor of 0.1 if the validation loss does not improve for 5 epochs\n",
    "scheduler = torch.optim.lr_scheduler.ReduceLROnPlateau(optimizer, 'min', patience=5, factor=0.1)"
   ]
  },
  {
   "cell_type": "code",
   "execution_count": 6,
   "metadata": {},
   "outputs": [
    {
     "name": "stdout",
     "output_type": "stream",
     "text": [
      "Validation loss improved at epoch 1. Model saved at CNN_model_epoch_1.pt\n",
      "Average Training Loss at improvement: 0.6573\n",
      "Average Validation Loss at improvement: 0.6634\n",
      "Validation loss improved at epoch 2. Model saved at CNN_model_epoch_2.pt\n",
      "Average Training Loss at improvement: 0.6381\n",
      "Average Validation Loss at improvement: 0.6611\n",
      "Validation loss improved at epoch 3. Model saved at CNN_model_epoch_3.pt\n",
      "Average Training Loss at improvement: 0.6324\n",
      "Average Validation Loss at improvement: 0.6529\n",
      "Validation loss improved at epoch 7. Model saved at CNN_model_epoch_7.pt\n",
      "Average Training Loss at improvement: 0.6225\n",
      "Average Validation Loss at improvement: 0.6501\n",
      "Validation loss improved at epoch 13. Model saved at CNN_model_epoch_13.pt\n",
      "Average Training Loss at improvement: 0.6151\n",
      "Average Validation Loss at improvement: 0.6497\n",
      "Validation loss improved at epoch 16. Model saved at CNN_model_epoch_16.pt\n",
      "Average Training Loss at improvement: 0.6129\n",
      "Average Validation Loss at improvement: 0.6480\n",
      "Validation loss improved at epoch 18. Model saved at CNN_model_epoch_18.pt\n",
      "Average Training Loss at improvement: 0.6114\n",
      "Average Validation Loss at improvement: 0.6468\n",
      "Validation loss improved at epoch 25. Model saved at CNN_model_epoch_25.pt\n",
      "Average Training Loss at improvement: 0.6008\n",
      "Average Validation Loss at improvement: 0.6439\n",
      "Validation loss improved at epoch 32. Model saved at CNN_model_epoch_32.pt\n",
      "Average Training Loss at improvement: 0.5982\n",
      "Average Validation Loss at improvement: 0.6438\n",
      "After Epoch 47: Early stopping due to validation loss not improving\n",
      "Average Training Loss at stopping: 0.5978\n",
      "Average Validation Loss at stopping: 0.6440\n",
      "Model saved at epoch 32 with lowest validation loss\n"
     ]
    }
   ],
   "source": [
    "# train the model\n",
    "num_epochs = 100  \n",
    "patience = 15  # early stopping patience\n",
    "best_val_loss = np.inf  # initialize the best validation loss\n",
    "patience_counter = 0  # initialize the patience counter\n",
    "model_path = ''  # initialize the path of the best model saved \n",
    "\n",
    "for epoch in range(num_epochs):\n",
    "    model.train()\n",
    "    total_loss = 0\n",
    "    for batch_X, batch_y in train_loader:\n",
    "        # clear the gradients\n",
    "        optimizer.zero_grad()\n",
    "        # forward pass\n",
    "        outputs = model(batch_X)\n",
    "        # compute the loss\n",
    "        loss = criterion(outputs.squeeze(), batch_y)\n",
    "        # backward pass\n",
    "        loss.backward()\n",
    "        # update the weights\n",
    "        optimizer.step()\n",
    "        total_loss += loss.item()\n",
    "\n",
    "    # compute the average training loss\n",
    "    avg_train_loss = total_loss / len(train_loader)\n",
    "    train_losses.append(avg_train_loss)\n",
    "\n",
    "    # validate the model\n",
    "    model.eval()\n",
    "    total_val_loss = 0\n",
    "    with torch.no_grad():\n",
    "        for batch_X, batch_y in valid_loader:\n",
    "            val_outputs = model(batch_X)\n",
    "            val_loss = criterion(val_outputs.squeeze(), batch_y)\n",
    "            total_val_loss += val_loss.item()\n",
    "\n",
    "    # compute the average validation loss\n",
    "    avg_val_loss = total_val_loss / len(valid_loader)\n",
    "    val_losses.append(avg_val_loss)\n",
    "\n",
    "    scheduler.step(avg_val_loss)\n",
    "    # check if the validation loss has improved and if it needs early stopping\n",
    "    if avg_val_loss < best_val_loss:\n",
    "        best_val_loss = avg_val_loss\n",
    "        patience_counter = 0\n",
    "        # Save the model if validation loss improves\n",
    "        model_path = f'CNN_model_epoch_{epoch + 1}.pt'\n",
    "        torch.save(model, model_path)\n",
    "        print(f'Validation loss improved at epoch {epoch + 1}. Model saved at {model_path}')\n",
    "        print(f'Average Training Loss at improvement: {avg_train_loss:.4f}')\n",
    "        print(f'Average Validation Loss at improvement: {avg_val_loss:.4f}')\n",
    "    else:\n",
    "        patience_counter += 1\n",
    "\n",
    "    if patience_counter >= patience:\n",
    "        print(f\"After Epoch {epoch+1}: Early stopping due to validation loss not improving\")\n",
    "        print(f'Average Training Loss at stopping: {avg_train_loss:.4f}')\n",
    "        print(f'Average Validation Loss at stopping: {avg_val_loss:.4f}')\n",
    "        print(f'Model saved at epoch {epoch + 1 - patience} with lowest validation loss')\n",
    "        break\n",
    "    # if there is no early stopping, save the model after the last epoch\n",
    "    if epoch == num_epochs - 1:\n",
    "        model_path = f'CNN_model_epoch_{epoch + 1}.pt'\n",
    "        torch.save(model, model_path)"
   ]
  },
  {
   "cell_type": "code",
   "execution_count": 7,
   "metadata": {},
   "outputs": [
    {
     "data": {
      "image/png": "[encoded data removed]",
      "text/plain": [
       "<Figure size 1000x500 with 1 Axes>"
      ]
     },
     "metadata": {},
     "output_type": "display_data"
    }
   ],
   "source": [
    "# Plot the losses\n",
    "plt.figure(figsize=(10, 5))\n",
    "plt.plot(train_losses, label='Train Loss')\n",
    "plt.plot(val_losses, label='Validation Loss')\n",
    "plt.title('Losses over training')\n",
    "plt.xlabel('Epochs')\n",
    "plt.ylabel('Loss')\n",
    "plt.legend()\n",
    "plt.show()"
   ]
  },
  {
   "cell_type": "code",
   "execution_count": 8,
   "metadata": {},
   "outputs": [
    {
     "name": "stdout",
     "output_type": "stream",
     "text": [
      "Test MSE: 0.6022\n"
     ]
    }
   ],
   "source": [
    "# test the model\n",
    "# load the model with the best validation loss\n",
    "model = torch.load(model_path).to(device)\n",
    "model.eval()\n",
    "\n",
    "y_test_pred_list = []\n",
    "\n",
    "with torch.no_grad():\n",
    "    for X_batch, _ in test_loader:\n",
    "        X_batch = X_batch.to(device)  # move the data to the GPU\n",
    "        y_test_pred = model(X_batch).detach().cpu().numpy()\n",
    "        y_test_pred_list.append(y_test_pred)\n",
    "y_test_pred = np.concatenate(y_test_pred_list)\n",
    "y_test_pred = np.squeeze(y_test_pred)\n",
    "\n",
    "print(\"Test MSE:\", round(np.mean(np.square(y_test_pred * std - data.y_test * std)), 4))"
   ]
  }
 ],
 "metadata": {
  "kernelspec": {
   "display_name": "myenv",
   "language": "python",
   "name": "python3"
  },
  "language_info": {
   "codemirror_mode": {
    "name": "ipython",
    "version": 3
   },
   "file_extension": ".py",
   "mimetype": "text/x-python",
   "name": "python",
   "nbconvert_exporter": "python",
   "pygments_lexer": "ipython3",
   "version": "3.11.5"
  }
 },
 "nbformat": 4,
 "nbformat_minor": 2
}
